{
 "cells": [
  {
   "cell_type": "markdown",
   "id": "d024eec2",
   "metadata": {},
   "source": [
    "### Importing Libraries"
   ]
  },
  {
   "cell_type": "code",
   "execution_count": 9,
   "id": "595c24d0",
   "metadata": {},
   "outputs": [],
   "source": [
    "import pandas as pd\n",
    "import numpy as np\n",
    "import matplotlib.pyplot as plt\n",
    "import seaborn as sbn\n",
    "import tensorflow as tf"
   ]
  },
  {
   "cell_type": "markdown",
   "id": "7a837e25",
   "metadata": {},
   "source": [
    "### Importing Dataset"
   ]
  },
  {
   "cell_type": "code",
   "execution_count": 10,
   "id": "cc7bca3a",
   "metadata": {},
   "outputs": [
    {
     "data": {
      "text/html": [
       "<div>\n",
       "<style scoped>\n",
       "    .dataframe tbody tr th:only-of-type {\n",
       "        vertical-align: middle;\n",
       "    }\n",
       "\n",
       "    .dataframe tbody tr th {\n",
       "        vertical-align: top;\n",
       "    }\n",
       "\n",
       "    .dataframe thead th {\n",
       "        text-align: right;\n",
       "    }\n",
       "</style>\n",
       "<table border=\"1\" class=\"dataframe\">\n",
       "  <thead>\n",
       "    <tr style=\"text-align: right;\">\n",
       "      <th></th>\n",
       "      <th>Date</th>\n",
       "      <th>Open</th>\n",
       "      <th>High</th>\n",
       "      <th>Low</th>\n",
       "      <th>Last</th>\n",
       "      <th>Close</th>\n",
       "      <th>Total Trade Quantity</th>\n",
       "      <th>Turnover (Lacs)</th>\n",
       "    </tr>\n",
       "  </thead>\n",
       "  <tbody>\n",
       "    <tr>\n",
       "      <th>0</th>\n",
       "      <td>2018-09-28</td>\n",
       "      <td>234.05</td>\n",
       "      <td>235.95</td>\n",
       "      <td>230.20</td>\n",
       "      <td>233.50</td>\n",
       "      <td>233.75</td>\n",
       "      <td>3069914</td>\n",
       "      <td>7162.35</td>\n",
       "    </tr>\n",
       "    <tr>\n",
       "      <th>1</th>\n",
       "      <td>2018-09-27</td>\n",
       "      <td>234.55</td>\n",
       "      <td>236.80</td>\n",
       "      <td>231.10</td>\n",
       "      <td>233.80</td>\n",
       "      <td>233.25</td>\n",
       "      <td>5082859</td>\n",
       "      <td>11859.95</td>\n",
       "    </tr>\n",
       "    <tr>\n",
       "      <th>2</th>\n",
       "      <td>2018-09-26</td>\n",
       "      <td>240.00</td>\n",
       "      <td>240.00</td>\n",
       "      <td>232.50</td>\n",
       "      <td>235.00</td>\n",
       "      <td>234.25</td>\n",
       "      <td>2240909</td>\n",
       "      <td>5248.60</td>\n",
       "    </tr>\n",
       "    <tr>\n",
       "      <th>3</th>\n",
       "      <td>2018-09-25</td>\n",
       "      <td>233.30</td>\n",
       "      <td>236.75</td>\n",
       "      <td>232.00</td>\n",
       "      <td>236.25</td>\n",
       "      <td>236.10</td>\n",
       "      <td>2349368</td>\n",
       "      <td>5503.90</td>\n",
       "    </tr>\n",
       "    <tr>\n",
       "      <th>4</th>\n",
       "      <td>2018-09-24</td>\n",
       "      <td>233.55</td>\n",
       "      <td>239.20</td>\n",
       "      <td>230.75</td>\n",
       "      <td>234.00</td>\n",
       "      <td>233.30</td>\n",
       "      <td>3423509</td>\n",
       "      <td>7999.55</td>\n",
       "    </tr>\n",
       "    <tr>\n",
       "      <th>...</th>\n",
       "      <td>...</td>\n",
       "      <td>...</td>\n",
       "      <td>...</td>\n",
       "      <td>...</td>\n",
       "      <td>...</td>\n",
       "      <td>...</td>\n",
       "      <td>...</td>\n",
       "      <td>...</td>\n",
       "    </tr>\n",
       "    <tr>\n",
       "      <th>2030</th>\n",
       "      <td>2010-07-27</td>\n",
       "      <td>117.60</td>\n",
       "      <td>119.50</td>\n",
       "      <td>112.00</td>\n",
       "      <td>118.80</td>\n",
       "      <td>118.65</td>\n",
       "      <td>586100</td>\n",
       "      <td>694.98</td>\n",
       "    </tr>\n",
       "    <tr>\n",
       "      <th>2031</th>\n",
       "      <td>2010-07-26</td>\n",
       "      <td>120.10</td>\n",
       "      <td>121.00</td>\n",
       "      <td>117.10</td>\n",
       "      <td>117.10</td>\n",
       "      <td>117.60</td>\n",
       "      <td>658440</td>\n",
       "      <td>780.01</td>\n",
       "    </tr>\n",
       "    <tr>\n",
       "      <th>2032</th>\n",
       "      <td>2010-07-23</td>\n",
       "      <td>121.80</td>\n",
       "      <td>121.95</td>\n",
       "      <td>120.25</td>\n",
       "      <td>120.35</td>\n",
       "      <td>120.65</td>\n",
       "      <td>281312</td>\n",
       "      <td>340.31</td>\n",
       "    </tr>\n",
       "    <tr>\n",
       "      <th>2033</th>\n",
       "      <td>2010-07-22</td>\n",
       "      <td>120.30</td>\n",
       "      <td>122.00</td>\n",
       "      <td>120.25</td>\n",
       "      <td>120.75</td>\n",
       "      <td>120.90</td>\n",
       "      <td>293312</td>\n",
       "      <td>355.17</td>\n",
       "    </tr>\n",
       "    <tr>\n",
       "      <th>2034</th>\n",
       "      <td>2010-07-21</td>\n",
       "      <td>122.10</td>\n",
       "      <td>123.00</td>\n",
       "      <td>121.05</td>\n",
       "      <td>121.10</td>\n",
       "      <td>121.55</td>\n",
       "      <td>658666</td>\n",
       "      <td>803.56</td>\n",
       "    </tr>\n",
       "  </tbody>\n",
       "</table>\n",
       "<p>2035 rows × 8 columns</p>\n",
       "</div>"
      ],
      "text/plain": [
       "            Date    Open    High     Low    Last   Close  \\\n",
       "0     2018-09-28  234.05  235.95  230.20  233.50  233.75   \n",
       "1     2018-09-27  234.55  236.80  231.10  233.80  233.25   \n",
       "2     2018-09-26  240.00  240.00  232.50  235.00  234.25   \n",
       "3     2018-09-25  233.30  236.75  232.00  236.25  236.10   \n",
       "4     2018-09-24  233.55  239.20  230.75  234.00  233.30   \n",
       "...          ...     ...     ...     ...     ...     ...   \n",
       "2030  2010-07-27  117.60  119.50  112.00  118.80  118.65   \n",
       "2031  2010-07-26  120.10  121.00  117.10  117.10  117.60   \n",
       "2032  2010-07-23  121.80  121.95  120.25  120.35  120.65   \n",
       "2033  2010-07-22  120.30  122.00  120.25  120.75  120.90   \n",
       "2034  2010-07-21  122.10  123.00  121.05  121.10  121.55   \n",
       "\n",
       "      Total Trade Quantity  Turnover (Lacs)  \n",
       "0                  3069914          7162.35  \n",
       "1                  5082859         11859.95  \n",
       "2                  2240909          5248.60  \n",
       "3                  2349368          5503.90  \n",
       "4                  3423509          7999.55  \n",
       "...                    ...              ...  \n",
       "2030                586100           694.98  \n",
       "2031                658440           780.01  \n",
       "2032                281312           340.31  \n",
       "2033                293312           355.17  \n",
       "2034                658666           803.56  \n",
       "\n",
       "[2035 rows x 8 columns]"
      ]
     },
     "execution_count": 10,
     "metadata": {},
     "output_type": "execute_result"
    }
   ],
   "source": [
    "dataset = pd.read_csv('https://raw.githubusercontent.com/mwitiderrick/stockprice/master/NSE-TATAGLOBAL.csv')\n",
    "pd.DataFrame(dataset)"
   ]
  },
  {
   "cell_type": "markdown",
   "id": "910ce48f",
   "metadata": {},
   "source": [
    "### Describing Dataset"
   ]
  },
  {
   "cell_type": "code",
   "execution_count": 11,
   "id": "a0d7fe46",
   "metadata": {},
   "outputs": [
    {
     "name": "stdout",
     "output_type": "stream",
     "text": [
      "<class 'pandas.core.frame.DataFrame'>\n",
      "RangeIndex: 2035 entries, 0 to 2034\n",
      "Data columns (total 8 columns):\n",
      " #   Column                Non-Null Count  Dtype  \n",
      "---  ------                --------------  -----  \n",
      " 0   Date                  2035 non-null   object \n",
      " 1   Open                  2035 non-null   float64\n",
      " 2   High                  2035 non-null   float64\n",
      " 3   Low                   2035 non-null   float64\n",
      " 4   Last                  2035 non-null   float64\n",
      " 5   Close                 2035 non-null   float64\n",
      " 6   Total Trade Quantity  2035 non-null   int64  \n",
      " 7   Turnover (Lacs)       2035 non-null   float64\n",
      "dtypes: float64(6), int64(1), object(1)\n",
      "memory usage: 127.3+ KB\n"
     ]
    }
   ],
   "source": [
    "dataset.info()"
   ]
  },
  {
   "cell_type": "code",
   "execution_count": 12,
   "id": "12bba273",
   "metadata": {},
   "outputs": [
    {
     "data": {
      "text/html": [
       "<div>\n",
       "<style scoped>\n",
       "    .dataframe tbody tr th:only-of-type {\n",
       "        vertical-align: middle;\n",
       "    }\n",
       "\n",
       "    .dataframe tbody tr th {\n",
       "        vertical-align: top;\n",
       "    }\n",
       "\n",
       "    .dataframe thead th {\n",
       "        text-align: right;\n",
       "    }\n",
       "</style>\n",
       "<table border=\"1\" class=\"dataframe\">\n",
       "  <thead>\n",
       "    <tr style=\"text-align: right;\">\n",
       "      <th></th>\n",
       "      <th>Open</th>\n",
       "      <th>High</th>\n",
       "      <th>Low</th>\n",
       "      <th>Last</th>\n",
       "      <th>Close</th>\n",
       "      <th>Total Trade Quantity</th>\n",
       "      <th>Turnover (Lacs)</th>\n",
       "    </tr>\n",
       "  </thead>\n",
       "  <tbody>\n",
       "    <tr>\n",
       "      <th>count</th>\n",
       "      <td>2035.000000</td>\n",
       "      <td>2035.000000</td>\n",
       "      <td>2035.000000</td>\n",
       "      <td>2035.000000</td>\n",
       "      <td>2035.00000</td>\n",
       "      <td>2.035000e+03</td>\n",
       "      <td>2035.000000</td>\n",
       "    </tr>\n",
       "    <tr>\n",
       "      <th>mean</th>\n",
       "      <td>149.713735</td>\n",
       "      <td>151.992826</td>\n",
       "      <td>147.293931</td>\n",
       "      <td>149.474251</td>\n",
       "      <td>149.45027</td>\n",
       "      <td>2.335681e+06</td>\n",
       "      <td>3899.980565</td>\n",
       "    </tr>\n",
       "    <tr>\n",
       "      <th>std</th>\n",
       "      <td>48.664509</td>\n",
       "      <td>49.413109</td>\n",
       "      <td>47.931958</td>\n",
       "      <td>48.732570</td>\n",
       "      <td>48.71204</td>\n",
       "      <td>2.091778e+06</td>\n",
       "      <td>4570.767877</td>\n",
       "    </tr>\n",
       "    <tr>\n",
       "      <th>min</th>\n",
       "      <td>81.100000</td>\n",
       "      <td>82.800000</td>\n",
       "      <td>80.000000</td>\n",
       "      <td>81.000000</td>\n",
       "      <td>80.95000</td>\n",
       "      <td>3.961000e+04</td>\n",
       "      <td>37.040000</td>\n",
       "    </tr>\n",
       "    <tr>\n",
       "      <th>25%</th>\n",
       "      <td>120.025000</td>\n",
       "      <td>122.100000</td>\n",
       "      <td>118.300000</td>\n",
       "      <td>120.075000</td>\n",
       "      <td>120.05000</td>\n",
       "      <td>1.146444e+06</td>\n",
       "      <td>1427.460000</td>\n",
       "    </tr>\n",
       "    <tr>\n",
       "      <th>50%</th>\n",
       "      <td>141.500000</td>\n",
       "      <td>143.400000</td>\n",
       "      <td>139.600000</td>\n",
       "      <td>141.100000</td>\n",
       "      <td>141.25000</td>\n",
       "      <td>1.783456e+06</td>\n",
       "      <td>2512.030000</td>\n",
       "    </tr>\n",
       "    <tr>\n",
       "      <th>75%</th>\n",
       "      <td>157.175000</td>\n",
       "      <td>159.400000</td>\n",
       "      <td>155.150000</td>\n",
       "      <td>156.925000</td>\n",
       "      <td>156.90000</td>\n",
       "      <td>2.813594e+06</td>\n",
       "      <td>4539.015000</td>\n",
       "    </tr>\n",
       "    <tr>\n",
       "      <th>max</th>\n",
       "      <td>327.700000</td>\n",
       "      <td>328.750000</td>\n",
       "      <td>321.650000</td>\n",
       "      <td>325.950000</td>\n",
       "      <td>325.75000</td>\n",
       "      <td>2.919102e+07</td>\n",
       "      <td>55755.080000</td>\n",
       "    </tr>\n",
       "  </tbody>\n",
       "</table>\n",
       "</div>"
      ],
      "text/plain": [
       "              Open         High          Low         Last       Close  \\\n",
       "count  2035.000000  2035.000000  2035.000000  2035.000000  2035.00000   \n",
       "mean    149.713735   151.992826   147.293931   149.474251   149.45027   \n",
       "std      48.664509    49.413109    47.931958    48.732570    48.71204   \n",
       "min      81.100000    82.800000    80.000000    81.000000    80.95000   \n",
       "25%     120.025000   122.100000   118.300000   120.075000   120.05000   \n",
       "50%     141.500000   143.400000   139.600000   141.100000   141.25000   \n",
       "75%     157.175000   159.400000   155.150000   156.925000   156.90000   \n",
       "max     327.700000   328.750000   321.650000   325.950000   325.75000   \n",
       "\n",
       "       Total Trade Quantity  Turnover (Lacs)  \n",
       "count          2.035000e+03      2035.000000  \n",
       "mean           2.335681e+06      3899.980565  \n",
       "std            2.091778e+06      4570.767877  \n",
       "min            3.961000e+04        37.040000  \n",
       "25%            1.146444e+06      1427.460000  \n",
       "50%            1.783456e+06      2512.030000  \n",
       "75%            2.813594e+06      4539.015000  \n",
       "max            2.919102e+07     55755.080000  "
      ]
     },
     "execution_count": 12,
     "metadata": {},
     "output_type": "execute_result"
    }
   ],
   "source": [
    "dataset.describe()"
   ]
  },
  {
   "cell_type": "code",
   "execution_count": 13,
   "id": "3b46ddbb",
   "metadata": {},
   "outputs": [
    {
     "data": {
      "text/plain": [
       "Date                    0\n",
       "Open                    0\n",
       "High                    0\n",
       "Low                     0\n",
       "Last                    0\n",
       "Close                   0\n",
       "Total Trade Quantity    0\n",
       "Turnover (Lacs)         0\n",
       "dtype: int64"
      ]
     },
     "execution_count": 13,
     "metadata": {},
     "output_type": "execute_result"
    }
   ],
   "source": [
    "dataset.isnull().sum()"
   ]
  },
  {
   "cell_type": "markdown",
   "id": "ed759eaf",
   "metadata": {},
   "source": [
    "##### Extracting closing price"
   ]
  },
  {
   "cell_type": "code",
   "execution_count": 14,
   "id": "1bde3435",
   "metadata": {},
   "outputs": [
    {
     "data": {
      "text/plain": [
       "[<matplotlib.lines.Line2D at 0x2462b75b220>]"
      ]
     },
     "execution_count": 14,
     "metadata": {},
     "output_type": "execute_result"
    },
    {
     "data": {
      "image/png": "[encoded data removed]",
      "text/plain": [
       "<Figure size 432x288 with 1 Axes>"
      ]
     },
     "metadata": {
      "needs_background": "light"
     },
     "output_type": "display_data"
    }
   ],
   "source": [
    "plt.plot(dataset['Close'])"
   ]
  },
  {
   "cell_type": "markdown",
   "id": "8c17e7ed",
   "metadata": {},
   "source": [
    "##### Sorting with date"
   ]
  },
  {
   "cell_type": "code",
   "execution_count": 15,
   "id": "6cb24bb9",
   "metadata": {},
   "outputs": [
    {
     "data": {
      "text/html": [
       "<div>\n",
       "<style scoped>\n",
       "    .dataframe tbody tr th:only-of-type {\n",
       "        vertical-align: middle;\n",
       "    }\n",
       "\n",
       "    .dataframe tbody tr th {\n",
       "        vertical-align: top;\n",
       "    }\n",
       "\n",
       "    .dataframe thead th {\n",
       "        text-align: right;\n",
       "    }\n",
       "</style>\n",
       "<table border=\"1\" class=\"dataframe\">\n",
       "  <thead>\n",
       "    <tr style=\"text-align: right;\">\n",
       "      <th></th>\n",
       "      <th>Date</th>\n",
       "      <th>Open</th>\n",
       "      <th>High</th>\n",
       "      <th>Low</th>\n",
       "      <th>Last</th>\n",
       "      <th>Close</th>\n",
       "      <th>Total Trade Quantity</th>\n",
       "      <th>Turnover (Lacs)</th>\n",
       "    </tr>\n",
       "  </thead>\n",
       "  <tbody>\n",
       "    <tr>\n",
       "      <th>2034</th>\n",
       "      <td>2010-07-21</td>\n",
       "      <td>122.1</td>\n",
       "      <td>123.00</td>\n",
       "      <td>121.05</td>\n",
       "      <td>121.10</td>\n",
       "      <td>121.55</td>\n",
       "      <td>658666</td>\n",
       "      <td>803.56</td>\n",
       "    </tr>\n",
       "    <tr>\n",
       "      <th>2033</th>\n",
       "      <td>2010-07-22</td>\n",
       "      <td>120.3</td>\n",
       "      <td>122.00</td>\n",
       "      <td>120.25</td>\n",
       "      <td>120.75</td>\n",
       "      <td>120.90</td>\n",
       "      <td>293312</td>\n",
       "      <td>355.17</td>\n",
       "    </tr>\n",
       "    <tr>\n",
       "      <th>2032</th>\n",
       "      <td>2010-07-23</td>\n",
       "      <td>121.8</td>\n",
       "      <td>121.95</td>\n",
       "      <td>120.25</td>\n",
       "      <td>120.35</td>\n",
       "      <td>120.65</td>\n",
       "      <td>281312</td>\n",
       "      <td>340.31</td>\n",
       "    </tr>\n",
       "    <tr>\n",
       "      <th>2031</th>\n",
       "      <td>2010-07-26</td>\n",
       "      <td>120.1</td>\n",
       "      <td>121.00</td>\n",
       "      <td>117.10</td>\n",
       "      <td>117.10</td>\n",
       "      <td>117.60</td>\n",
       "      <td>658440</td>\n",
       "      <td>780.01</td>\n",
       "    </tr>\n",
       "    <tr>\n",
       "      <th>2030</th>\n",
       "      <td>2010-07-27</td>\n",
       "      <td>117.6</td>\n",
       "      <td>119.50</td>\n",
       "      <td>112.00</td>\n",
       "      <td>118.80</td>\n",
       "      <td>118.65</td>\n",
       "      <td>586100</td>\n",
       "      <td>694.98</td>\n",
       "    </tr>\n",
       "  </tbody>\n",
       "</table>\n",
       "</div>"
      ],
      "text/plain": [
       "           Date   Open    High     Low    Last   Close  Total Trade Quantity  \\\n",
       "2034 2010-07-21  122.1  123.00  121.05  121.10  121.55                658666   \n",
       "2033 2010-07-22  120.3  122.00  120.25  120.75  120.90                293312   \n",
       "2032 2010-07-23  121.8  121.95  120.25  120.35  120.65                281312   \n",
       "2031 2010-07-26  120.1  121.00  117.10  117.10  117.60                658440   \n",
       "2030 2010-07-27  117.6  119.50  112.00  118.80  118.65                586100   \n",
       "\n",
       "      Turnover (Lacs)  \n",
       "2034           803.56  \n",
       "2033           355.17  \n",
       "2032           340.31  \n",
       "2031           780.01  \n",
       "2030           694.98  "
      ]
     },
     "execution_count": 15,
     "metadata": {},
     "output_type": "execute_result"
    }
   ],
   "source": [
    "dataset['Date'] = pd.to_datetime(dataset['Date'])\n",
    "dataset_new = dataset.sort_values(by='Date')\n",
    "dataset_new.head()"
   ]
  },
  {
   "cell_type": "code",
   "execution_count": 16,
   "id": "bb0480db",
   "metadata": {},
   "outputs": [
    {
     "data": {
      "text/html": [
       "<div>\n",
       "<style scoped>\n",
       "    .dataframe tbody tr th:only-of-type {\n",
       "        vertical-align: middle;\n",
       "    }\n",
       "\n",
       "    .dataframe tbody tr th {\n",
       "        vertical-align: top;\n",
       "    }\n",
       "\n",
       "    .dataframe thead th {\n",
       "        text-align: right;\n",
       "    }\n",
       "</style>\n",
       "<table border=\"1\" class=\"dataframe\">\n",
       "  <thead>\n",
       "    <tr style=\"text-align: right;\">\n",
       "      <th></th>\n",
       "      <th>index</th>\n",
       "      <th>Date</th>\n",
       "      <th>Open</th>\n",
       "      <th>High</th>\n",
       "      <th>Low</th>\n",
       "      <th>Last</th>\n",
       "      <th>Close</th>\n",
       "      <th>Total Trade Quantity</th>\n",
       "      <th>Turnover (Lacs)</th>\n",
       "    </tr>\n",
       "  </thead>\n",
       "  <tbody>\n",
       "    <tr>\n",
       "      <th>0</th>\n",
       "      <td>2034</td>\n",
       "      <td>2010-07-21</td>\n",
       "      <td>122.1</td>\n",
       "      <td>123.00</td>\n",
       "      <td>121.05</td>\n",
       "      <td>121.10</td>\n",
       "      <td>121.55</td>\n",
       "      <td>658666</td>\n",
       "      <td>803.56</td>\n",
       "    </tr>\n",
       "    <tr>\n",
       "      <th>1</th>\n",
       "      <td>2033</td>\n",
       "      <td>2010-07-22</td>\n",
       "      <td>120.3</td>\n",
       "      <td>122.00</td>\n",
       "      <td>120.25</td>\n",
       "      <td>120.75</td>\n",
       "      <td>120.90</td>\n",
       "      <td>293312</td>\n",
       "      <td>355.17</td>\n",
       "    </tr>\n",
       "    <tr>\n",
       "      <th>2</th>\n",
       "      <td>2032</td>\n",
       "      <td>2010-07-23</td>\n",
       "      <td>121.8</td>\n",
       "      <td>121.95</td>\n",
       "      <td>120.25</td>\n",
       "      <td>120.35</td>\n",
       "      <td>120.65</td>\n",
       "      <td>281312</td>\n",
       "      <td>340.31</td>\n",
       "    </tr>\n",
       "    <tr>\n",
       "      <th>3</th>\n",
       "      <td>2031</td>\n",
       "      <td>2010-07-26</td>\n",
       "      <td>120.1</td>\n",
       "      <td>121.00</td>\n",
       "      <td>117.10</td>\n",
       "      <td>117.10</td>\n",
       "      <td>117.60</td>\n",
       "      <td>658440</td>\n",
       "      <td>780.01</td>\n",
       "    </tr>\n",
       "    <tr>\n",
       "      <th>4</th>\n",
       "      <td>2030</td>\n",
       "      <td>2010-07-27</td>\n",
       "      <td>117.6</td>\n",
       "      <td>119.50</td>\n",
       "      <td>112.00</td>\n",
       "      <td>118.80</td>\n",
       "      <td>118.65</td>\n",
       "      <td>586100</td>\n",
       "      <td>694.98</td>\n",
       "    </tr>\n",
       "  </tbody>\n",
       "</table>\n",
       "</div>"
      ],
      "text/plain": [
       "   index       Date   Open    High     Low    Last   Close  \\\n",
       "0   2034 2010-07-21  122.1  123.00  121.05  121.10  121.55   \n",
       "1   2033 2010-07-22  120.3  122.00  120.25  120.75  120.90   \n",
       "2   2032 2010-07-23  121.8  121.95  120.25  120.35  120.65   \n",
       "3   2031 2010-07-26  120.1  121.00  117.10  117.10  117.60   \n",
       "4   2030 2010-07-27  117.6  119.50  112.00  118.80  118.65   \n",
       "\n",
       "   Total Trade Quantity  Turnover (Lacs)  \n",
       "0                658666           803.56  \n",
       "1                293312           355.17  \n",
       "2                281312           340.31  \n",
       "3                658440           780.01  \n",
       "4                586100           694.98  "
      ]
     },
     "execution_count": 16,
     "metadata": {},
     "output_type": "execute_result"
    }
   ],
   "source": [
    "dataset_new.reset_index(inplace=True)\n",
    "dataset_new.head()"
   ]
  },
  {
   "cell_type": "code",
   "execution_count": 18,
   "id": "f96818cf",
   "metadata": {},
   "outputs": [
    {
     "data": {
      "text/plain": [
       "[<matplotlib.lines.Line2D at 0x2462d879700>]"
      ]
     },
     "execution_count": 18,
     "metadata": {},
     "output_type": "execute_result"
    },
    {
     "data": {
      "image/png": "[encoded data removed]",
      "text/plain": [
       "<Figure size 432x288 with 1 Axes>"
      ]
     },
     "metadata": {
      "needs_background": "light"
     },
     "output_type": "display_data"
    }
   ],
   "source": [
    "plt.plot(dataset_new['Close'])"
   ]
  },
  {
   "cell_type": "code",
   "execution_count": 22,
   "id": "35227546",
   "metadata": {},
   "outputs": [
    {
     "data": {
      "text/plain": [
       "0       121.55\n",
       "1       120.90\n",
       "2       120.65\n",
       "3       117.60\n",
       "4       118.65\n",
       "         ...  \n",
       "2030    233.30\n",
       "2031    236.10\n",
       "2032    234.25\n",
       "2033    233.25\n",
       "2034    233.75\n",
       "Name: Close, Length: 2035, dtype: float64"
      ]
     },
     "execution_count": 22,
     "metadata": {},
     "output_type": "execute_result"
    }
   ],
   "source": [
    "dataset_close = dataset_new['Close']\n",
    "dataset_close"
   ]
  },
  {
   "cell_type": "markdown",
   "id": "d191f86d",
   "metadata": {},
   "source": [
    "##### Using MaxMin Scaler for minimizing range"
   ]
  },
  {
   "cell_type": "code",
   "execution_count": 23,
   "id": "71231a82",
   "metadata": {},
   "outputs": [],
   "source": [
    "from sklearn.preprocessing import MinMaxScaler\n",
    "sc = MinMaxScaler(feature_range=(0,1))\n",
    "dataset_close = sc.fit_transform(np.array(dataset_close).reshape(-1,1))"
   ]
  },
  {
   "cell_type": "code",
   "execution_count": 24,
   "id": "d7a30e99",
   "metadata": {},
   "outputs": [
    {
     "data": {
      "text/plain": [
       "array([[0.16584967],\n",
       "       [0.16319444],\n",
       "       [0.1621732 ],\n",
       "       ...,\n",
       "       [0.62622549],\n",
       "       [0.62214052],\n",
       "       [0.62418301]])"
      ]
     },
     "execution_count": 24,
     "metadata": {},
     "output_type": "execute_result"
    }
   ],
   "source": [
    "dataset_close"
   ]
  },
  {
   "cell_type": "markdown",
   "id": "5bc82270",
   "metadata": {},
   "source": [
    "### Splitting dataset into training and test set"
   ]
  },
  {
   "cell_type": "code",
   "execution_count": 25,
   "id": "636acfdb",
   "metadata": {},
   "outputs": [],
   "source": [
    "split_size_train = int(len(dataset_close)*0.75)\n",
    "split_size_test = int(len(dataset_close)*0.25)"
   ]
  },
  {
   "cell_type": "code",
   "execution_count": 26,
   "id": "23d56bc6",
   "metadata": {},
   "outputs": [],
   "source": [
    "train_dataset = dataset_close[0:split_size_train,:]\n",
    "test_dataset = dataset_close[split_size_test:,:]"
   ]
  },
  {
   "cell_type": "code",
   "execution_count": 27,
   "id": "6836bcf1",
   "metadata": {},
   "outputs": [
    {
     "data": {
      "text/plain": [
       "array([[0.16584967],\n",
       "       [0.16319444],\n",
       "       [0.1621732 ],\n",
       "       ...,\n",
       "       [0.25020425],\n",
       "       [0.25020425],\n",
       "       [0.23999183]])"
      ]
     },
     "execution_count": 27,
     "metadata": {},
     "output_type": "execute_result"
    }
   ],
   "source": [
    "train_dataset"
   ]
  },
  {
   "cell_type": "code",
   "execution_count": 28,
   "id": "e7ae1535",
   "metadata": {},
   "outputs": [
    {
     "data": {
      "text/plain": [
       "array([[0.1621732 ],\n",
       "       [0.17034314],\n",
       "       [0.18811275],\n",
       "       ...,\n",
       "       [0.62622549],\n",
       "       [0.62214052],\n",
       "       [0.62418301]])"
      ]
     },
     "execution_count": 28,
     "metadata": {},
     "output_type": "execute_result"
    }
   ],
   "source": [
    "test_dataset"
   ]
  },
  {
   "cell_type": "code",
   "execution_count": 29,
   "id": "deefe9fe",
   "metadata": {},
   "outputs": [],
   "source": [
    "def make_dataset(dataset,time=1):\n",
    "    x,y=[],[]\n",
    "    for i in range(len(dataset)-time-1):\n",
    "        temp = dataset[i:(i+time),0]\n",
    "        x.append(temp)\n",
    "        y.append(dataset[i+time,0])\n",
    "    return np.array(x),np.array(y)"
   ]
  },
  {
   "cell_type": "code",
   "execution_count": 30,
   "id": "f52e6d70",
   "metadata": {},
   "outputs": [],
   "source": [
    "time = 100\n",
    "x_train,y_train = make_dataset(train_dataset,time)\n",
    "x_test,y_test = make_dataset(test_dataset,time)"
   ]
  },
  {
   "cell_type": "code",
   "execution_count": 31,
   "id": "447eb761",
   "metadata": {},
   "outputs": [
    {
     "data": {
      "text/plain": [
       "array([[0.16584967, 0.16319444, 0.1621732 , ..., 0.14011438, 0.13848039,\n",
       "        0.12479575],\n",
       "       [0.16319444, 0.1621732 , 0.14971405, ..., 0.13848039, 0.12479575,\n",
       "        0.12254902],\n",
       "       [0.1621732 , 0.14971405, 0.15400327, ..., 0.12479575, 0.12254902,\n",
       "        0.13010621],\n",
       "       ...,\n",
       "       [0.15747549, 0.15277778, 0.1621732 , ..., 0.24223856, 0.24571078,\n",
       "        0.24775327],\n",
       "       [0.15277778, 0.1621732 , 0.15951797, ..., 0.24571078, 0.24775327,\n",
       "        0.24836601],\n",
       "       [0.1621732 , 0.15951797, 0.16707516, ..., 0.24775327, 0.24836601,\n",
       "        0.25020425]])"
      ]
     },
     "execution_count": 31,
     "metadata": {},
     "output_type": "execute_result"
    }
   ],
   "source": [
    "x_train"
   ]
  },
  {
   "cell_type": "code",
   "execution_count": 32,
   "id": "719bbdc9",
   "metadata": {},
   "outputs": [
    {
     "data": {
      "text/plain": [
       "array([[0.1621732 , 0.17034314, 0.18811275, ..., 0.34395425, 0.33496732,\n",
       "        0.32638889],\n",
       "       [0.17034314, 0.18811275, 0.18831699, ..., 0.33496732, 0.32638889,\n",
       "        0.3255719 ],\n",
       "       [0.18811275, 0.18831699, 0.2005719 , ..., 0.32638889, 0.3255719 ,\n",
       "        0.32352941],\n",
       "       ...,\n",
       "       [0.86519608, 0.84027778, 0.84497549, ..., 0.62888072, 0.62765523,\n",
       "        0.62234477],\n",
       "       [0.84027778, 0.84497549, 0.87111928, ..., 0.62765523, 0.62234477,\n",
       "        0.63378268],\n",
       "       [0.84497549, 0.87111928, 0.85273693, ..., 0.62234477, 0.63378268,\n",
       "        0.62622549]])"
      ]
     },
     "execution_count": 32,
     "metadata": {},
     "output_type": "execute_result"
    }
   ],
   "source": [
    "x_test"
   ]
  },
  {
   "cell_type": "code",
   "execution_count": 33,
   "id": "a08d4181",
   "metadata": {},
   "outputs": [
    {
     "data": {
      "text/plain": [
       "array([0.12254902, 0.13010621, 0.13541667, ..., 0.24836601, 0.25020425,\n",
       "       0.25020425])"
      ]
     },
     "execution_count": 33,
     "metadata": {},
     "output_type": "execute_result"
    }
   ],
   "source": [
    "y_train"
   ]
  },
  {
   "cell_type": "code",
   "execution_count": 34,
   "id": "588d39ac",
   "metadata": {},
   "outputs": [
    {
     "data": {
      "text/plain": [
       "array([0.3255719 , 0.32352941, 0.32148693, ..., 0.63378268, 0.62622549,\n",
       "       0.62214052])"
      ]
     },
     "execution_count": 34,
     "metadata": {},
     "output_type": "execute_result"
    }
   ],
   "source": [
    "y_test"
   ]
  },
  {
   "cell_type": "code",
   "execution_count": 35,
   "id": "01046423",
   "metadata": {},
   "outputs": [],
   "source": [
    "x_train = x_train.reshape(x_train.shape[0],x_train.shape[1],1)\n",
    "x_test = x_test.reshape(x_test.shape[0],x_train.shape[1],1)"
   ]
  },
  {
   "cell_type": "markdown",
   "id": "ff3c8322",
   "metadata": {},
   "source": [
    "### Building LSTM Model"
   ]
  },
  {
   "cell_type": "markdown",
   "id": "b8825b2f",
   "metadata": {},
   "source": [
    "##### Initializing model"
   ]
  },
  {
   "cell_type": "code",
   "execution_count": 36,
   "id": "acb8ae37",
   "metadata": {},
   "outputs": [],
   "source": [
    "model = tf.keras.models.Sequential()"
   ]
  },
  {
   "cell_type": "markdown",
   "id": "a6581f54",
   "metadata": {},
   "source": [
    "##### Adding input layer and first input layer"
   ]
  },
  {
   "cell_type": "code",
   "execution_count": 37,
   "id": "0ee8bf4d",
   "metadata": {},
   "outputs": [],
   "source": [
    "model.add(tf.keras.layers.LSTM(units=50,return_sequences=True,input_shape=(100,1)))"
   ]
  },
  {
   "cell_type": "markdown",
   "id": "77ccdd4b",
   "metadata": {},
   "source": [
    "#### Adding second layer"
   ]
  },
  {
   "cell_type": "code",
   "execution_count": 38,
   "id": "e16027fc",
   "metadata": {},
   "outputs": [],
   "source": [
    "model.add(tf.keras.layers.LSTM(units=50,return_sequences=True))"
   ]
  },
  {
   "cell_type": "markdown",
   "id": "83231daf",
   "metadata": {},
   "source": [
    "##### Adding output layer"
   ]
  },
  {
   "cell_type": "code",
   "execution_count": 39,
   "id": "e7c9dc9f",
   "metadata": {},
   "outputs": [],
   "source": [
    "model.add(tf.keras.layers.LSTM(units=50))"
   ]
  },
  {
   "cell_type": "markdown",
   "id": "d9861e49",
   "metadata": {},
   "source": [
    "##### Adding Dense Layer"
   ]
  },
  {
   "cell_type": "code",
   "execution_count": 40,
   "id": "53a7daa5",
   "metadata": {},
   "outputs": [],
   "source": [
    "model.add(tf.keras.layers.Dense(units=1))"
   ]
  },
  {
   "cell_type": "markdown",
   "id": "17ab7326",
   "metadata": {},
   "source": [
    "##### Compiling model"
   ]
  },
  {
   "cell_type": "code",
   "execution_count": 41,
   "id": "b3dab677",
   "metadata": {},
   "outputs": [],
   "source": [
    "model.compile(loss='mean_squared_error',optimizer='adam')"
   ]
  },
  {
   "cell_type": "code",
   "execution_count": 42,
   "id": "d822574b",
   "metadata": {},
   "outputs": [
    {
     "name": "stdout",
     "output_type": "stream",
     "text": [
      "Model: \"sequential\"\n",
      "_________________________________________________________________\n",
      " Layer (type)                Output Shape              Param #   \n",
      "=================================================================\n",
      " lstm (LSTM)                 (None, 100, 50)           10400     \n",
      "                                                                 \n",
      " lstm_1 (LSTM)               (None, 100, 50)           20200     \n",
      "                                                                 \n",
      " lstm_2 (LSTM)               (None, 50)                20200     \n",
      "                                                                 \n",
      " dense (Dense)               (None, 1)                 51        \n",
      "                                                                 \n",
      "=================================================================\n",
      "Total params: 50,851\n",
      "Trainable params: 50,851\n",
      "Non-trainable params: 0\n",
      "_________________________________________________________________\n"
     ]
    }
   ],
   "source": [
    "model.summary()"
   ]
  },
  {
   "cell_type": "markdown",
   "id": "5a1dcb1c",
   "metadata": {},
   "source": [
    "### Training Model"
   ]
  },
  {
   "cell_type": "code",
   "execution_count": 48,
   "id": "88388d04",
   "metadata": {},
   "outputs": [
    {
     "name": "stdout",
     "output_type": "stream",
     "text": [
      "Epoch 1/100\n",
      "30/30 [==============================] - 4s 129ms/step - loss: 1.1975e-04 - val_loss: 5.3573e-04\n",
      "Epoch 2/100\n",
      "30/30 [==============================] - 4s 126ms/step - loss: 1.2018e-04 - val_loss: 4.9012e-04\n",
      "Epoch 3/100\n",
      "30/30 [==============================] - 4s 135ms/step - loss: 1.2802e-04 - val_loss: 5.8108e-04\n",
      "Epoch 4/100\n",
      "30/30 [==============================] - 4s 130ms/step - loss: 1.1933e-04 - val_loss: 8.2705e-04\n",
      "Epoch 5/100\n",
      "30/30 [==============================] - 4s 129ms/step - loss: 1.2776e-04 - val_loss: 6.8552e-04\n",
      "Epoch 6/100\n",
      "30/30 [==============================] - 4s 141ms/step - loss: 1.2000e-04 - val_loss: 6.3909e-04\n",
      "Epoch 7/100\n",
      "30/30 [==============================] - 4s 127ms/step - loss: 1.2620e-04 - val_loss: 5.7461e-04\n",
      "Epoch 8/100\n",
      "30/30 [==============================] - 4s 136ms/step - loss: 1.3055e-04 - val_loss: 5.5334e-04\n",
      "Epoch 9/100\n",
      "30/30 [==============================] - 5s 164ms/step - loss: 1.2522e-04 - val_loss: 5.8400e-04\n",
      "Epoch 10/100\n",
      "30/30 [==============================] - 5s 161ms/step - loss: 1.2165e-04 - val_loss: 4.3500e-04\n",
      "Epoch 11/100\n",
      "30/30 [==============================] - 5s 164ms/step - loss: 1.3342e-04 - val_loss: 7.1235e-04\n",
      "Epoch 12/100\n",
      "30/30 [==============================] - 5s 182ms/step - loss: 1.2316e-04 - val_loss: 5.9059e-04\n",
      "Epoch 13/100\n",
      "30/30 [==============================] - 5s 167ms/step - loss: 1.1887e-04 - val_loss: 4.9908e-04\n",
      "Epoch 14/100\n",
      "30/30 [==============================] - 5s 166ms/step - loss: 1.2012e-04 - val_loss: 4.7860e-04\n",
      "Epoch 15/100\n",
      "30/30 [==============================] - 5s 168ms/step - loss: 1.2539e-04 - val_loss: 5.8299e-04\n",
      "Epoch 16/100\n",
      "30/30 [==============================] - 5s 163ms/step - loss: 1.2865e-04 - val_loss: 4.8622e-04\n",
      "Epoch 17/100\n",
      "30/30 [==============================] - 6s 191ms/step - loss: 1.2146e-04 - val_loss: 6.5754e-04\n",
      "Epoch 18/100\n",
      "30/30 [==============================] - 5s 173ms/step - loss: 1.1843e-04 - val_loss: 5.5427e-04\n",
      "Epoch 19/100\n",
      "30/30 [==============================] - 5s 180ms/step - loss: 1.1886e-04 - val_loss: 5.5493e-04\n",
      "Epoch 20/100\n",
      "30/30 [==============================] - 5s 169ms/step - loss: 1.2542e-04 - val_loss: 4.6437e-04\n",
      "Epoch 21/100\n",
      "30/30 [==============================] - 5s 164ms/step - loss: 1.3850e-04 - val_loss: 5.3368e-04\n",
      "Epoch 22/100\n",
      "30/30 [==============================] - 5s 163ms/step - loss: 1.2569e-04 - val_loss: 7.4621e-04\n",
      "Epoch 23/100\n",
      "30/30 [==============================] - 5s 179ms/step - loss: 1.2942e-04 - val_loss: 4.8731e-04\n",
      "Epoch 24/100\n",
      "30/30 [==============================] - 6s 195ms/step - loss: 1.1844e-04 - val_loss: 5.2865e-04\n",
      "Epoch 25/100\n",
      "30/30 [==============================] - 6s 200ms/step - loss: 1.2209e-04 - val_loss: 4.9812e-04\n",
      "Epoch 26/100\n",
      "30/30 [==============================] - 6s 207ms/step - loss: 1.1856e-04 - val_loss: 6.3453e-04\n",
      "Epoch 27/100\n",
      "30/30 [==============================] - 6s 191ms/step - loss: 1.2594e-04 - val_loss: 4.6316e-04\n",
      "Epoch 28/100\n",
      "30/30 [==============================] - 6s 200ms/step - loss: 1.3199e-04 - val_loss: 4.9056e-04\n",
      "Epoch 29/100\n",
      "30/30 [==============================] - 6s 192ms/step - loss: 1.2064e-04 - val_loss: 5.2595e-04\n",
      "Epoch 30/100\n",
      "30/30 [==============================] - 6s 194ms/step - loss: 1.3056e-04 - val_loss: 7.0020e-04\n",
      "Epoch 31/100\n",
      "30/30 [==============================] - 5s 166ms/step - loss: 1.3018e-04 - val_loss: 7.6122e-04\n",
      "Epoch 32/100\n",
      "30/30 [==============================] - 5s 167ms/step - loss: 1.2144e-04 - val_loss: 5.4719e-04\n",
      "Epoch 33/100\n",
      "30/30 [==============================] - 5s 172ms/step - loss: 1.2414e-04 - val_loss: 6.5980e-04\n",
      "Epoch 34/100\n",
      "30/30 [==============================] - 5s 172ms/step - loss: 1.2352e-04 - val_loss: 6.2732e-04\n",
      "Epoch 35/100\n",
      "30/30 [==============================] - 5s 165ms/step - loss: 1.1920e-04 - val_loss: 5.7308e-04\n",
      "Epoch 36/100\n",
      "30/30 [==============================] - 5s 169ms/step - loss: 1.2024e-04 - val_loss: 7.4427e-04\n",
      "Epoch 37/100\n",
      "30/30 [==============================] - 5s 173ms/step - loss: 1.1780e-04 - val_loss: 6.5183e-04\n",
      "Epoch 38/100\n",
      "30/30 [==============================] - 7s 247ms/step - loss: 1.2472e-04 - val_loss: 5.7563e-04\n",
      "Epoch 39/100\n",
      "30/30 [==============================] - 8s 254ms/step - loss: 1.1783e-04 - val_loss: 6.8570e-04\n",
      "Epoch 40/100\n",
      "30/30 [==============================] - 7s 233ms/step - loss: 1.1797e-04 - val_loss: 6.2039e-04\n",
      "Epoch 41/100\n",
      "30/30 [==============================] - 6s 203ms/step - loss: 1.2005e-04 - val_loss: 6.1466e-04\n",
      "Epoch 42/100\n",
      "30/30 [==============================] - 5s 176ms/step - loss: 1.2213e-04 - val_loss: 7.3894e-04\n",
      "Epoch 43/100\n",
      "30/30 [==============================] - 5s 183ms/step - loss: 1.2759e-04 - val_loss: 0.0010\n",
      "Epoch 44/100\n",
      "30/30 [==============================] - 6s 185ms/step - loss: 1.2537e-04 - val_loss: 6.2690e-04\n",
      "Epoch 45/100\n",
      "30/30 [==============================] - 5s 166ms/step - loss: 1.1721e-04 - val_loss: 5.5138e-04\n",
      "Epoch 46/100\n",
      "30/30 [==============================] - 5s 160ms/step - loss: 1.1588e-04 - val_loss: 5.6631e-04\n",
      "Epoch 47/100\n",
      "30/30 [==============================] - 5s 162ms/step - loss: 1.2090e-04 - val_loss: 5.6238e-04\n",
      "Epoch 48/100\n",
      "30/30 [==============================] - 5s 166ms/step - loss: 1.1974e-04 - val_loss: 5.3160e-04\n",
      "Epoch 49/100\n",
      "30/30 [==============================] - 5s 165ms/step - loss: 1.1777e-04 - val_loss: 7.2402e-04\n",
      "Epoch 50/100\n",
      "30/30 [==============================] - 5s 175ms/step - loss: 1.3131e-04 - val_loss: 8.5109e-04\n",
      "Epoch 51/100\n",
      "30/30 [==============================] - 5s 176ms/step - loss: 1.2154e-04 - val_loss: 4.9057e-04\n",
      "Epoch 52/100\n",
      "30/30 [==============================] - 6s 187ms/step - loss: 1.2481e-04 - val_loss: 4.9131e-04\n",
      "Epoch 53/100\n",
      "30/30 [==============================] - 6s 187ms/step - loss: 1.3889e-04 - val_loss: 5.1931e-04\n",
      "Epoch 54/100\n",
      "30/30 [==============================] - 5s 183ms/step - loss: 1.1849e-04 - val_loss: 6.9739e-04\n",
      "Epoch 55/100\n",
      "30/30 [==============================] - 5s 185ms/step - loss: 1.1699e-04 - val_loss: 4.5710e-04\n",
      "Epoch 56/100\n",
      "30/30 [==============================] - 5s 182ms/step - loss: 1.2816e-04 - val_loss: 6.5026e-04\n",
      "Epoch 57/100\n",
      "30/30 [==============================] - 5s 174ms/step - loss: 1.1792e-04 - val_loss: 5.8693e-04\n",
      "Epoch 58/100\n",
      "30/30 [==============================] - 5s 168ms/step - loss: 1.1939e-04 - val_loss: 6.6286e-04\n",
      "Epoch 59/100\n",
      "30/30 [==============================] - 5s 162ms/step - loss: 1.1940e-04 - val_loss: 5.4560e-04\n",
      "Epoch 60/100\n",
      "30/30 [==============================] - 5s 159ms/step - loss: 1.2367e-04 - val_loss: 6.0984e-04\n",
      "Epoch 61/100\n",
      "30/30 [==============================] - 5s 160ms/step - loss: 1.1898e-04 - val_loss: 6.2296e-04\n",
      "Epoch 62/100\n",
      "30/30 [==============================] - 5s 163ms/step - loss: 1.1898e-04 - val_loss: 6.4003e-04\n",
      "Epoch 63/100\n",
      "30/30 [==============================] - 5s 178ms/step - loss: 1.1566e-04 - val_loss: 7.2628e-04\n",
      "Epoch 64/100\n",
      "30/30 [==============================] - 7s 220ms/step - loss: 1.2077e-04 - val_loss: 6.4139e-04\n",
      "Epoch 65/100\n",
      "30/30 [==============================] - 7s 229ms/step - loss: 1.1809e-04 - val_loss: 6.4975e-04\n",
      "Epoch 66/100\n",
      "30/30 [==============================] - 6s 196ms/step - loss: 1.2387e-04 - val_loss: 6.9069e-04\n",
      "Epoch 67/100\n",
      "30/30 [==============================] - 6s 189ms/step - loss: 1.2629e-04 - val_loss: 8.7673e-04\n",
      "Epoch 68/100\n",
      "30/30 [==============================] - 6s 192ms/step - loss: 1.2942e-04 - val_loss: 6.5873e-04\n",
      "Epoch 69/100\n",
      "30/30 [==============================] - 5s 179ms/step - loss: 1.2545e-04 - val_loss: 5.3032e-04\n",
      "Epoch 70/100\n",
      "30/30 [==============================] - 5s 181ms/step - loss: 1.2432e-04 - val_loss: 8.0733e-04\n",
      "Epoch 71/100\n",
      "30/30 [==============================] - 5s 182ms/step - loss: 1.3563e-04 - val_loss: 0.0010\n",
      "Epoch 72/100\n",
      "30/30 [==============================] - 5s 165ms/step - loss: 1.2236e-04 - val_loss: 7.3890e-04\n",
      "Epoch 73/100\n",
      "30/30 [==============================] - 5s 165ms/step - loss: 1.2117e-04 - val_loss: 6.2244e-04\n",
      "Epoch 74/100\n",
      "30/30 [==============================] - 6s 190ms/step - loss: 1.1640e-04 - val_loss: 6.0259e-04\n",
      "Epoch 75/100\n"
     ]
    },
    {
     "name": "stdout",
     "output_type": "stream",
     "text": [
      "30/30 [==============================] - 6s 206ms/step - loss: 1.2117e-04 - val_loss: 6.1919e-04\n",
      "Epoch 76/100\n",
      "30/30 [==============================] - 6s 204ms/step - loss: 1.2474e-04 - val_loss: 8.3253e-04\n",
      "Epoch 77/100\n",
      "30/30 [==============================] - 6s 208ms/step - loss: 1.2370e-04 - val_loss: 5.2057e-04\n",
      "Epoch 78/100\n",
      "30/30 [==============================] - 6s 193ms/step - loss: 1.2433e-04 - val_loss: 0.0011\n",
      "Epoch 79/100\n",
      "30/30 [==============================] - 6s 191ms/step - loss: 1.2405e-04 - val_loss: 7.5521e-04\n",
      "Epoch 80/100\n",
      "30/30 [==============================] - 5s 168ms/step - loss: 1.2050e-04 - val_loss: 6.2080e-04\n",
      "Epoch 81/100\n",
      "30/30 [==============================] - 5s 174ms/step - loss: 1.2198e-04 - val_loss: 6.3072e-04\n",
      "Epoch 82/100\n",
      "30/30 [==============================] - 5s 174ms/step - loss: 1.5879e-04 - val_loss: 8.3946e-04\n",
      "Epoch 83/100\n",
      "30/30 [==============================] - 5s 163ms/step - loss: 1.3158e-04 - val_loss: 6.7326e-04\n",
      "Epoch 84/100\n",
      "30/30 [==============================] - 5s 161ms/step - loss: 1.2024e-04 - val_loss: 8.3412e-04\n",
      "Epoch 85/100\n",
      "30/30 [==============================] - 5s 177ms/step - loss: 1.2390e-04 - val_loss: 9.6320e-04\n",
      "Epoch 86/100\n",
      "30/30 [==============================] - 5s 174ms/step - loss: 1.2092e-04 - val_loss: 6.1519e-04\n",
      "Epoch 87/100\n",
      "30/30 [==============================] - 6s 199ms/step - loss: 1.1632e-04 - val_loss: 7.0551e-04\n",
      "Epoch 88/100\n",
      "30/30 [==============================] - 6s 213ms/step - loss: 1.1795e-04 - val_loss: 9.7336e-04\n",
      "Epoch 89/100\n",
      "30/30 [==============================] - 6s 207ms/step - loss: 1.2041e-04 - val_loss: 7.1452e-04\n",
      "Epoch 90/100\n",
      "30/30 [==============================] - 6s 209ms/step - loss: 1.1955e-04 - val_loss: 6.8598e-04\n",
      "Epoch 91/100\n",
      "30/30 [==============================] - 6s 190ms/step - loss: 1.1836e-04 - val_loss: 6.0031e-04\n",
      "Epoch 92/100\n",
      "30/30 [==============================] - 6s 186ms/step - loss: 1.1731e-04 - val_loss: 7.5590e-04\n",
      "Epoch 93/100\n",
      "30/30 [==============================] - 5s 171ms/step - loss: 1.1918e-04 - val_loss: 6.5861e-04\n",
      "Epoch 94/100\n",
      "30/30 [==============================] - 5s 161ms/step - loss: 1.2817e-04 - val_loss: 8.0570e-04\n",
      "Epoch 95/100\n",
      "30/30 [==============================] - 6s 189ms/step - loss: 1.3910e-04 - val_loss: 5.8742e-04\n",
      "Epoch 96/100\n",
      "30/30 [==============================] - 5s 182ms/step - loss: 1.4073e-04 - val_loss: 8.6627e-04\n",
      "Epoch 97/100\n",
      "30/30 [==============================] - 6s 217ms/step - loss: 1.3488e-04 - val_loss: 7.1436e-04\n",
      "Epoch 98/100\n",
      "30/30 [==============================] - 6s 200ms/step - loss: 1.2161e-04 - val_loss: 7.5495e-04\n",
      "Epoch 99/100\n",
      "30/30 [==============================] - 6s 192ms/step - loss: 1.1971e-04 - val_loss: 6.4034e-04\n",
      "Epoch 100/100\n",
      "30/30 [==============================] - 6s 203ms/step - loss: 1.1887e-04 - val_loss: 9.1827e-04\n"
     ]
    },
    {
     "data": {
      "text/plain": [
       "<keras.callbacks.History at 0x2463d6a4b20>"
      ]
     },
     "execution_count": 48,
     "metadata": {},
     "output_type": "execute_result"
    }
   ],
   "source": [
    "model.fit(x_train,y_train,batch_size=48,epochs=100,validation_data=(x_test,y_test))"
   ]
  },
  {
   "cell_type": "code",
   "execution_count": 49,
   "id": "8fdf0d60",
   "metadata": {},
   "outputs": [
    {
     "name": "stdout",
     "output_type": "stream",
     "text": [
      "45/45 [==============================] - 1s 31ms/step\n",
      "45/45 [==============================] - 1s 30ms/step\n"
     ]
    }
   ],
   "source": [
    "train_pred = sc.inverse_transform(model.predict(x_train))\n",
    "test_pred = sc.inverse_transform(model.predict(x_test))"
   ]
  },
  {
   "cell_type": "code",
   "execution_count": 50,
   "id": "c1defa14",
   "metadata": {},
   "outputs": [
    {
     "name": "stdout",
     "output_type": "stream",
     "text": [
      "132.98701105919645\n",
      "167.36070786175134\n"
     ]
    }
   ],
   "source": [
    "# calculating root mean square errors\n",
    "import math\n",
    "from sklearn.metrics import mean_squared_error\n",
    "print(math.sqrt(mean_squared_error(y_train,train_pred)))\n",
    "print(math.sqrt(mean_squared_error(y_test,test_pred)))"
   ]
  },
  {
   "cell_type": "code",
   "execution_count": 51,
   "id": "ff0a1fb9",
   "metadata": {},
   "outputs": [
    {
     "data": {
      "text/plain": [
       "array([[159.74486],\n",
       "       [159.73114],\n",
       "       [159.30734],\n",
       "       ...,\n",
       "       [225.11198],\n",
       "       [228.27078],\n",
       "       [225.35393]], dtype=float32)"
      ]
     },
     "execution_count": 51,
     "metadata": {},
     "output_type": "execute_result"
    }
   ],
   "source": [
    "test_pred"
   ]
  },
  {
   "cell_type": "markdown",
   "id": "f9508b3f",
   "metadata": {},
   "source": [
    "### Visualising Results"
   ]
  },
  {
   "cell_type": "code",
   "execution_count": 59,
   "id": "3e06e5b5",
   "metadata": {},
   "outputs": [
    {
     "data": {
      "image/png": "[encoded data removed]",
      "text/plain": [
       "<Figure size 432x288 with 1 Axes>"
      ]
     },
     "metadata": {
      "needs_background": "light"
     },
     "output_type": "display_data"
    }
   ],
   "source": [
    "plt.title(\"Stock Market TATA NSE\")\n",
    "plt.plot(test_pred)\n",
    "plt.xlabel('Date')\n",
    "plt.ylabel('Trade')\n",
    "plt.show()"
   ]
  }
 ],
 "metadata": {
  "kernelspec": {
   "display_name": "Python 3 (ipykernel)",
   "language": "python",
   "name": "python3"
  },
  "language_info": {
   "codemirror_mode": {
    "name": "ipython",
    "version": 3
   },
   "file_extension": ".py",
   "mimetype": "text/x-python",
   "name": "python",
   "nbconvert_exporter": "python",
   "pygments_lexer": "ipython3",
   "version": "3.9.7"
  }
 },
 "nbformat": 4,
 "nbformat_minor": 5
}
